{
 "cells": [
  {
   "cell_type": "markdown",
   "metadata": {},
   "source": [
    "## Assignment 2"
   ]
  },
  {
   "cell_type": "markdown",
   "metadata": {},
   "source": [
    "#### Task 1: 1.1  Write a Python Program to implement your own myreduce() function which works exactly like Python's built-in function reduce()"
   ]
  },
  {
   "cell_type": "code",
   "execution_count": 37,
   "metadata": {},
   "outputs": [
    {
     "name": "stdout",
     "output_type": "stream",
     "text": [
      "Sum of elements of list[7,8,6] using custom reduce function:\t 21\n"
     ]
    }
   ],
   "source": [
    "# A custom reduce() function.\n",
    "\n",
    "def my_reduce(myfunc, seq):\n",
    "        result = seq[0]\n",
    " # let's iterate other items in seq and apply the reduction function \n",
    "        for item in seq[1:]:\n",
    "            result = myfunc(result, item)\n",
    "        return result\n",
    "\n",
    "# Now lets deploy the custom reduce function\n",
    "def sum(x,y): \n",
    "    return x + y\n",
    "\n",
    "print(\"Sum of elements of list[7,8,6] using custom reduce function:\\t \"+str(my_reduce(sum,[7,8,6])) )"
   ]
  },
  {
   "cell_type": "markdown",
   "metadata": {},
   "source": [
    "#### 1.2  Write a Python program to implement your own myfilter() function which works exactly like Python's built-in function filter()"
   ]
  },
  {
   "cell_type": "code",
   "execution_count": 44,
   "metadata": {},
   "outputs": [
    {
     "name": "stdout",
     "output_type": "stream",
     "text": [
      "Lets Filter only positive digits on List [-3,-2,-1,0,1,2,3] using custom filter function [0, 1, 2, 3]\n"
     ]
    }
   ],
   "source": [
    "# A customer filter() function \n",
    "def myfilter(myfunc, seq):\n",
    " result = []\n",
    " # iterate over sequence of items in sequence and apply filter function\n",
    " for x in seq:\n",
    "  if myfunc(x):\n",
    "   result.append(x)\n",
    "\n",
    " return result\n",
    "\n",
    "# Now lets test myfilter function\n",
    "def ispositive(x):\n",
    " if (x < 0): \n",
    "  return False \n",
    " else: \n",
    "  return True\n",
    "\n",
    "print(\"Lets Filter only positive digits on List [-3,-2,-1,0,1,2,3] using custom filter function \"+ \n",
    "      str(myfilter(ispositive, [-3,-2,-1,0,1,2,3])))\n"
   ]
  },
  {
   "cell_type": "markdown",
   "metadata": {},
   "source": [
    "#### 2.  Implement List comprehensions to produce the following lists. Write List comprehensions to produce the following Lists\n",
    "['A', 'C', 'A', 'D', 'G', 'I', ’L’, ‘ D’]\n",
    "['x', 'xx', 'xxx', 'xxxx', 'y', 'yy', 'yyy', 'yyyy', 'z', 'zz', 'zzz', 'zzzz']\n",
    "['x', 'y', 'z', 'xx', 'yy', 'zz', 'xx', 'yy', 'zz', 'xxxx', 'yyyy', 'zzzz']"
   ]
  },
  {
   "cell_type": "code",
   "execution_count": 51,
   "metadata": {},
   "outputs": [
    {
     "name": "stdout",
     "output_type": "stream",
     "text": [
      "ACADGILD --> ['A', 'C', 'A', 'D', 'G', 'I', 'L', 'D']\n",
      "['x','y','z'] --> ['x', 'xx', 'xxx', 'xxxx', 'y', 'yy', 'yyy', 'yyyy', 'z', 'zz', 'zzz', 'zzzz']\n",
      "['x','y','z'] => ['x', 'y', 'z', 'xx', 'yy', 'zz', 'xxx', 'yyy', 'zzz', 'xxxx', 'yyyy', 'zzzz']\n"
     ]
    }
   ],
   "source": [
    "## Print ['A', 'C', 'A', 'D', 'G', 'I', ’L’, ‘ D’]\n",
    "word = \"ACADGILD\"\n",
    "my_list = [ alpha for alpha in word ]\n",
    "print (\"ACADGILD --> \" + str(my_list))\n",
    "\n",
    "## Print ['x', 'xx', 'xxx', 'xxxx', 'y', 'yy', 'yyy', 'yyyy', 'z', 'zz', 'zzz', 'zzzz']\n",
    "my_list = ['x','y','z']\n",
    "result = [ item*num for item in my_list for num in range(1,5)  ]\n",
    "print(\"['x','y','z'] --> \" +   str(result))\n",
    "\n",
    "## Print ['x', 'y', 'z', 'xx', 'yy', 'zz', 'xx', 'yy', 'zz', 'xxxx', 'yyyy', 'zzzz']\n",
    "my_list = ['x','y','z']\n",
    "result = [ item*num for num in range(1,5) for item in my_list  ]\n",
    "print(\"['x','y','z'] => \" +   str(result))"
   ]
  },
  {
   "cell_type": "markdown",
   "metadata": {},
   "source": [
    "#### 3.  Implement a function longestWord() that takes a list of words and returns the longest one."
   ]
  },
  {
   "cell_type": "code",
   "execution_count": 56,
   "metadata": {},
   "outputs": [
    {
     "name": "stdout",
     "output_type": "stream",
     "text": [
      "Enter words separated by Commas : Happy, New, Year, 2020\n",
      "longest word : Happy\n"
     ]
    }
   ],
   "source": [
    "def longest_word():\n",
    "    \n",
    "    word_list = input(\"Enter words separated by Commas : \")\n",
    "    word = word_list.split(\",\")\n",
    "\n",
    "    emp_list = []\n",
    "    \n",
    "    for x in range (0, len(word)):\n",
    "        emp_list.append(len(word[x]))\n",
    "    \n",
    "    print(\"longest word :\", word[emp_list.index(max(emp_list))])\n",
    "\n",
    "longest_word()\n"
   ]
  },
  {
   "cell_type": "markdown",
   "metadata": {},
   "source": [
    "#### Task 2: 1.1 Write a Python Program(with class concepts) to find the area of the triangle using the below\n",
    "formula. area = (s*(s-a)*(s-b)*(s-c)) ** 0.5\n",
    "Function to take the length of the sides of triangle from user should be defined in the parent\n",
    "class and function to calculate the area should be defined in subclass."
   ]
  },
  {
   "cell_type": "code",
   "execution_count": 10,
   "metadata": {},
   "outputs": [
    {
     "name": "stdout",
     "output_type": "stream",
     "text": [
      "Enter the value of a = 5.6\n",
      "Enter the value of b = 9.5\n",
      "Enter the value of c = 4.3\n",
      "area : 25.418387045601467\n"
     ]
    }
   ],
   "source": [
    "class Cal_Area_triangle:\n",
    " \n",
    "    def __init__(self,x,y,z):\n",
    "        self.a = float(x)\n",
    "        self.b = float(y)\n",
    "        self.c = float(y)\n",
    " \n",
    "    def area(self):\n",
    "        s=(self.a + self.b + self.c)/2\n",
    "        return((s*(s-self.a)*(s-self.b)*(s-self.c))**0.5)\n",
    " \n",
    "a=input(\"Enter the value of a = \")\n",
    "b=input(\"Enter the value of b = \")\n",
    "c=input(\"Enter the value of c = \")\n",
    "t = Cal_Area_triangle(a, b, c)\n",
    "print(\"area : {}\".format(t.area()))"
   ]
  },
  {
   "cell_type": "markdown",
   "metadata": {},
   "source": [
    "#### 1.2 Write a function filter_long_words() that takes a list of words and an integer n and returns the list of words that are longer than n."
   ]
  },
  {
   "cell_type": "code",
   "execution_count": 59,
   "metadata": {},
   "outputs": [
    {
     "name": "stdout",
     "output_type": "stream",
     "text": [
      "Enter some words now : iNeuron, is, the, Best\n",
      "5\n",
      "['iNeuron']\n"
     ]
    }
   ],
   "source": [
    "def listing(guess, number):\n",
    "\n",
    "    new_list = []\n",
    "\n",
    "    for i in range(len(guess)):\n",
    "        if len(guess[i]) > number:\n",
    "            new_list.append(guess[i])\n",
    "\n",
    "    print (new_list)\n",
    "\n",
    "list1 = input(\"Enter some words now : \")\n",
    "\n",
    "list = list1.split(\",\")\n",
    "\n",
    "def filter_long_words():\n",
    "    global list, integer1\n",
    "    integer = input()\n",
    "    integer1 = int(integer)\n",
    "    listing(list, integer1)\n",
    "\n",
    "filter_long_words()"
   ]
  },
  {
   "cell_type": "markdown",
   "metadata": {},
   "source": [
    "#### 2.1 Write a Python program using function concept that maps list of words into a list of integers representing the lengths of the corresponding words .\n",
    "Hint: If a list [ ab,cde,erty] is passed on to the python function output should come as [2,3,4]\n",
    "Here 2,3 and 4 are the lengths of the words in the list."
   ]
  },
  {
   "cell_type": "code",
   "execution_count": 63,
   "metadata": {},
   "outputs": [
    {
     "name": "stdout",
     "output_type": "stream",
     "text": [
      "List of words\t\t:['ab', 'cde', 'erty']\n",
      "Length of words in the list\t:[2, 3, 4]\n"
     ]
    }
   ],
   "source": [
    "Words_Lists = ['ab','cde','erty']\n",
    " \n",
    "LenOfWords = []\n",
    " \n",
    "for i in range(len(Words_Lists)):\n",
    "    LenOfWords.append(len(Words_Lists[i]))\n",
    " \n",
    "print(\"List of words\\t\\t:\"+str(Words_Lists))    \n",
    "print(\"Length of words in the list\\t:\"+str(LenOfWords))"
   ]
  },
  {
   "cell_type": "markdown",
   "metadata": {},
   "source": [
    "#### 2.1 Write a Python function which takes a character (i.e. a string of length 1) and returns True if it is a vowel, False otherwise."
   ]
  },
  {
   "cell_type": "code",
   "execution_count": 70,
   "metadata": {},
   "outputs": [
    {
     "name": "stdout",
     "output_type": "stream",
     "text": [
      "False\n",
      "True\n",
      "False\n"
     ]
    }
   ],
   "source": [
    "def is_vowel(char):\n",
    "    vowels = ('a', 'e', 'i', 'o', 'u')\n",
    "    if char not in vowels:\n",
    "        return False\n",
    "    return True\n",
    "\n",
    "if __name__ == \"__main__\":\n",
    "    print(is_vowel('c'))\n",
    "    print(is_vowel('a'))\n",
    "    print(is_vowel('b'))"
   ]
  },
  {
   "cell_type": "markdown",
   "metadata": {},
   "source": [
    "##### End of Python Assignment-2"
   ]
  }
 ],
 "metadata": {
  "kernelspec": {
   "display_name": "Python 3",
   "language": "python",
   "name": "python3"
  },
  "language_info": {
   "codemirror_mode": {
    "name": "ipython",
    "version": 3
   },
   "file_extension": ".py",
   "mimetype": "text/x-python",
   "name": "python",
   "nbconvert_exporter": "python",
   "pygments_lexer": "ipython3",
   "version": "3.6.2"
  }
 },
 "nbformat": 4,
 "nbformat_minor": 2
}
